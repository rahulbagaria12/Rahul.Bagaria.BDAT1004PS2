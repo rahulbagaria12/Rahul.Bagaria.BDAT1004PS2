{
 "cells": [
  {
   "cell_type": "markdown",
   "id": "20b897e1",
   "metadata": {},
   "source": [
    "# QUESTION NUMBER 1"
   ]
  },
  {
   "cell_type": "code",
   "execution_count": 1,
   "id": "dde883a7",
   "metadata": {},
   "outputs": [],
   "source": [
    "a = 0\n",
    "def b():\n",
    "    global a\n",
    "    a = c(a)\n",
    "    \n",
    "def c(a):\n",
    "    return a + 2 "
   ]
  },
  {
   "cell_type": "code",
   "execution_count": 2,
   "id": "b68df187",
   "metadata": {},
   "outputs": [
    {
     "data": {
      "text/plain": [
       "6"
      ]
     },
     "execution_count": 2,
     "metadata": {},
     "output_type": "execute_result"
    }
   ],
   "source": [
    "b()\n",
    "b()\n",
    "b()\n",
    "a"
   ]
  },
  {
   "cell_type": "code",
   "execution_count": 3,
   "id": "25d04c54",
   "metadata": {},
   "outputs": [],
   "source": [
    "#explaination:\n",
    "#The value of a is increased by a factor of 2 everytime when function c is called.Now whenever function b is called , function c is called .\n",
    "#Hence value of a=3*2 which is 6."
   ]
  },
  {
   "cell_type": "markdown",
   "id": "48110083",
   "metadata": {},
   "source": [
    "# QUESTION NUMBER 2"
   ]
  },
  {
   "cell_type": "code",
   "execution_count": 7,
   "id": "80ebe177",
   "metadata": {},
   "outputs": [],
   "source": [
    "def filelength(fileName):\n",
    "    try:\n",
    "        file = open(fileName)\n",
    "        contents = file.read()\n",
    "        file.close()\n",
    "        print(len(contents))\n",
    "    except:\n",
    "        print(\"File \" + fileName + \" not found.\")"
   ]
  },
  {
   "cell_type": "code",
   "execution_count": 8,
   "id": "cfa72114",
   "metadata": {},
   "outputs": [
    {
     "name": "stdout",
     "output_type": "stream",
     "text": [
      "759\n",
      "File idterm.py not found.\n"
     ]
    }
   ],
   "source": [
    "filelength(\"filelength.ipynb\")\n",
    "filelength(\"idterm.py\")\n"
   ]
  },
  {
   "cell_type": "markdown",
   "id": "089ec295",
   "metadata": {},
   "source": [
    "# QUESTION NUMBER 3"
   ]
  },
  {
   "cell_type": "code",
   "execution_count": 9,
   "id": "9d941667",
   "metadata": {},
   "outputs": [
    {
     "name": "stdout",
     "output_type": "stream",
     "text": [
      "I am a Kangaroo located at coordinates (0,0)\n",
      "['doll', 'firetruck', 'kitten']\n",
      "I am a Kangaroo located at coordinates (3,0)\n"
     ]
    }
   ],
   "source": [
    "class Marsupial:#defined class Marsupial\n",
    "    l = []\n",
    "    def __init__(self, A, B):\n",
    "        self.A = A\n",
    "        self.B = B\n",
    "    \n",
    "    def put_in_pouch(self, s):\n",
    "        self.l.append(s)\n",
    "        \n",
    "    def pouch_contents(self):\n",
    "        print(self.l)\n",
    "        \n",
    "class Kangaroo(Marsupial):#creating subcalss of Marsupial\n",
    "    def jump(self, dA, dB):\n",
    "        self.A += dA\n",
    "        self.B += dB\n",
    "        \n",
    "    def __str__(self):#overloading __str__() for desired output\n",
    "        return \"I am a Kangaroo located at coordinates ({},{})\".format(self.A, self.B)\n",
    "    \n",
    "    \n",
    "    \n",
    "k = Kangaroo(0,0)\n",
    "print(k)\n",
    "k.put_in_pouch('doll')\n",
    "k.put_in_pouch('firetruck')\n",
    "k.put_in_pouch('kitten')\n",
    "k.pouch_contents()\n",
    "k.jump(1,0)\n",
    "k.jump(1,0)\n",
    "k.jump(1,0)\n",
    "print(k)"
   ]
  },
  {
   "cell_type": "markdown",
   "id": "8756a799",
   "metadata": {},
   "source": [
    "# QUESTION NUMBER 4"
   ]
  },
  {
   "cell_type": "code",
   "execution_count": 19,
   "id": "109014c3",
   "metadata": {},
   "outputs": [
    {
     "name": "stdout",
     "output_type": "stream",
     "text": [
      "1\n"
     ]
    }
   ],
   "source": [
    "def collatz(x): \n",
    "    print(x)\n",
    "    \n",
    "    if x == 1:\n",
    "        return\n",
    "    \n",
    "    elif (x % 2 == 0):\n",
    "        collatz(x // 2)\n",
    "        \n",
    "    else:\n",
    "        collatz(3*x + 1)\n",
    "        \n",
    "\n",
    "collatz(1)\n"
   ]
  },
  {
   "cell_type": "code",
   "execution_count": 20,
   "id": "a5c8f340",
   "metadata": {},
   "outputs": [
    {
     "name": "stdout",
     "output_type": "stream",
     "text": [
      "10\n",
      "5\n",
      "16\n",
      "8\n",
      "4\n",
      "2\n",
      "1\n"
     ]
    }
   ],
   "source": [
    "collatz(10)"
   ]
  },
  {
   "cell_type": "markdown",
   "id": "4c7272c3",
   "metadata": {},
   "source": [
    "# QUESTION NUMBER 5"
   ]
  },
  {
   "cell_type": "code",
   "execution_count": 15,
   "id": "c9ec3c53",
   "metadata": {},
   "outputs": [
    {
     "name": "stdout",
     "output_type": "stream",
     "text": [
      "Enter a number : 9\n",
      "1001\n"
     ]
    }
   ],
   "source": [
    "l = []\n",
    "def Binary_helper(n):\n",
    "    if (n == 0):\n",
    "        return\n",
    "    l.append(str(n % 2))\n",
    "    Binary_helper(n//2)\n",
    "\n",
    "def Binary(n):\n",
    "    Binary_helper(n)\n",
    "    s = ''.join(map(str, l[::-1]))\n",
    "    print(s)\n",
    "\n",
    "n = int(input(\"Enter a number : \"))\n",
    "Binary(n)"
   ]
  },
  {
   "cell_type": "markdown",
   "id": "c1eaca0b",
   "metadata": {},
   "source": [
    "# QUESTION 8"
   ]
  },
  {
   "cell_type": "code",
   "execution_count": 21,
   "id": "abe07781",
   "metadata": {},
   "outputs": [],
   "source": [
    "# taking the name of the table as tablez"
   ]
  },
  {
   "cell_type": "code",
   "execution_count": null,
   "id": "5feab400",
   "metadata": {},
   "outputs": [],
   "source": [
    "Desire                                                                                              COMMANDS\n",
    "(a)ALL the Temperature Data                                                              select Temperature FROM tablez\n",
    "(b)ALL the Cities, but without repetition                                                select DISTINCT city FROM tablez\n",
    "(c)All the Records for India                                                             select * FROM tablez WHERE Country = India\n",
    "(d)All the Fall Records                                                                  select * FROM tablez WHERE Season = Fall\n",
    "(e)The City, Country, and season for which the average rainfall is                       select city, country, season FROM tablez WHERE rainfall>200 and rainfall<400\n",
    "Between 200 and 400 Millimeters. \n",
    "\n",
    "(f)The City and Country for which the avrage Fall Temperature is above 20 degrees,       select city, country FROM tablez WHERE Temperature > 20 ORDER BY Temperature ASC\n",
    "in increasing Temperature Order\n",
    "\n",
    "(g)Total Annual Rainfall for Cairo                                                      select SUM(Rainfall) FROM tablez WHERE City = Cairo\n",
    "(h)Total Rainfall for each season                                                       select SUM(Rainfall) FROM tablez GROUP BY Season"
   ]
  },
  {
   "cell_type": "markdown",
   "id": "8287244e",
   "metadata": {},
   "source": [
    "# QUESTION NUMBER 9"
   ]
  },
  {
   "cell_type": "code",
   "execution_count": 18,
   "id": "cc34a4a7",
   "metadata": {},
   "outputs": [
    {
     "name": "stdout",
     "output_type": "stream",
     "text": [
      "['THE', 'QUICK', 'BROWN', 'FOX', 'JUMPS', 'OVER', 'THE', 'LAZY', 'DOG'] \n",
      "\n",
      " ['the', 'quick', 'brown', 'fox', 'jumps', 'over', 'the', 'lazy', 'dog'] \n",
      "\n",
      " [3, 5, 5, 3, 5, 4, 3, 4, 3] \n",
      "\n",
      " [['THE', 'the', 3], ['QUICK', 'quick', 5], ['BROWN', 'brown', 5], ['FOX', 'fox', 3], ['JUMPS', 'jumps', 5], ['OVER', 'over', 4], ['THE', 'the', 3], ['LAZY', 'lazy', 4], ['DOG', 'dog', 3]] \n",
      "\n",
      " ['quick', 'brown', 'jumps', 'over', 'lazy']\n"
     ]
    }
   ],
   "source": [
    "words = ['The', 'quick', 'brown', 'fox', 'jumps', 'over', 'the', 'lazy', 'dog']\n",
    "\n",
    "upper_words = [i.upper() for i in words]\n",
    "lower_words = [i.lower() for i in words]\n",
    "len_words = [len(i) for i in words]\n",
    "combo_words = [[i.upper(), i.lower(), len(i)] for i in words]\n",
    "len_greater_than_4 = [i for i in words if len(i) >= 4]\n",
    "\n",
    "print(upper_words,\"\\n\\n\", lower_words,\"\\n\\n\", len_words,\"\\n\\n\", combo_words,\"\\n\\n\", len_greater_than_4)\n"
   ]
  },
  {
   "cell_type": "code",
   "execution_count": null,
   "id": "1cef4e68",
   "metadata": {},
   "outputs": [],
   "source": []
  }
 ],
 "metadata": {
  "kernelspec": {
   "display_name": "Python 3 (ipykernel)",
   "language": "python",
   "name": "python3"
  },
  "language_info": {
   "codemirror_mode": {
    "name": "ipython",
    "version": 3
   },
   "file_extension": ".py",
   "mimetype": "text/x-python",
   "name": "python",
   "nbconvert_exporter": "python",
   "pygments_lexer": "ipython3",
   "version": "3.9.13"
  }
 },
 "nbformat": 4,
 "nbformat_minor": 5
}
